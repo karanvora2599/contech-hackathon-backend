{
 "cells": [
  {
   "cell_type": "code",
   "execution_count": null,
   "metadata": {},
   "outputs": [],
   "source": [
    "#Query\n",
    "\n",
    "curl -X POST \"http://127.0.0.1:8000/query\" \\\n",
    "-H \"Content-Type: application/json\" \\\n",
    "-d '{\n",
    "    \"query\": \"SELECT ?s ?p ?o WHERE { ?s ?p ?o . ?s a gc:Violation } LIMIT 10\"\n",
    "}'"
   ]
  },
  {
   "cell_type": "code",
   "execution_count": null,
   "metadata": {},
   "outputs": [],
   "source": [
    "#invoking LLM\n",
    "\n",
    "curl -X POST \"http://localhost:8000/parse\" \\\n",
    "     -H \"Content-Type: application/json\" \\\n",
    "     -d '{\n",
    "           \"document_text\": \"Your document text here.\"\n",
    "         }'\n",
    "\n",
    "\n",
    "curl -X POST \"http://localhost:8000/parse\" \\\n",
    "     -H \"Content-Type: application/json\" \\\n",
    "     -d '{\n",
    "           \"document_text\": \"Your document text here.\",\n",
    "           \"system_prompt\": \"You are an expert data analyst that extracts structured information from documents.\",\n",
    "           \"temperature\": 0.7,\n",
    "           \"max_tokens\": 1500,\n",
    "           \"top_p\": 0.8,\n",
    "           \"stream\": false,\n",
    "           \"response_format\": {\n",
    "               \"type\": \"json_object\"\n",
    "           },\n",
    "           \"stop\": [\"\\n\"]\n",
    "         }'"
   ]
  },
  {
   "cell_type": "code",
   "execution_count": null,
   "metadata": {},
   "outputs": [],
   "source": [
    "!uvicorn api2:app --host 0.0.0.0 --port 8000 --reload"
   ]
  },
  {
   "cell_type": "code",
   "execution_count": 1,
   "metadata": {},
   "outputs": [],
   "source": [
    "#api3.py"
   ]
  },
  {
   "cell_type": "code",
   "execution_count": 5,
   "metadata": {},
   "outputs": [
    {
     "name": "stdout",
     "output_type": "stream",
     "text": [
      "{\n",
      "    \"FileName\": \"Test.jpg\",\n",
      "    \"Text\": \"The image displays a job posting for a Data Engineer position at an unspecified company. The posting is presented in white text on a black background, with the title \\\"Data Engineer\\\" prominently displayed at the top.\\n\\n**Job Details:**\\n\\n* **Location:** Mountain View, CA\\n* **Type:** Full-time\\n\\n**About the Role:**\\n\\nThe company is seeking a Data Engineer to design and implement scalable data pipelines that power their AI models and analytics.\\n\\n**Required Skills & Experience:**\\n\\n* Design and implement ETL pipelines in PySpark and/or Scala Spark\\n* Orchestrate complex data workflows in Airflow\\n* Advanced SQL skills and experience with BigQuery\\n* Hands-on experience with MongoDB, Elasticsearch, and PostgreSQL\\n* Proficiency with C++ and cluster optimization\\n* Experience handling TB-scale unstructured data\\n* Optimize database performance and storage strategies\\n* Create and maintain data quality monitoring systems\\n* Collaborate with ML Engineers on production model deployment\\n* Stay current with emerging AI tools and technologies\\n* 3+ years of experience in large-scale data engineering\\n\\n**Nice-to-Have Qualifications:**\\n\\n* Experience with PyTorch, Hugging Face, or other ML frameworks\\n* Background in ML operations and deployment\\n* Familiarity with Ray for distributed computing\\n* Experience with real-time data streaming architectures\\n* Background in sales/marketing data systems\\n* Previous experience in startup or AI-driven environments\\n\\nOverall, the job posting emphasizes the importance of technical skills, experience, and collaboration in the role of a Data Engineer.\"\n",
      "}\n",
      "FileName: Test.jpg\n",
      "Text:\n",
      "The image displays a job posting for a Data Engineer position at an unspecified company. The posting is presented in white text on a black background, with the title \"Data Engineer\" prominently displayed at the top.\n",
      "\n",
      "**Job Details:**\n",
      "\n",
      "* **Location:** Mountain View, CA\n",
      "* **Type:** Full-time\n",
      "\n",
      "**About the Role:**\n",
      "\n",
      "The company is seeking a Data Engineer to design and implement scalable data pipelines that power their AI models and analytics.\n",
      "\n",
      "**Required Skills & Experience:**\n",
      "\n",
      "* Design and implement ETL pipelines in PySpark and/or Scala Spark\n",
      "* Orchestrate complex data workflows in Airflow\n",
      "* Advanced SQL skills and experience with BigQuery\n",
      "* Hands-on experience with MongoDB, Elasticsearch, and PostgreSQL\n",
      "* Proficiency with C++ and cluster optimization\n",
      "* Experience handling TB-scale unstructured data\n",
      "* Optimize database performance and storage strategies\n",
      "* Create and maintain data quality monitoring systems\n",
      "* Collaborate with ML Engineers on production model deployment\n",
      "* Stay current with emerging AI tools and technologies\n",
      "* 3+ years of experience in large-scale data engineering\n",
      "\n",
      "**Nice-to-Have Qualifications:**\n",
      "\n",
      "* Experience with PyTorch, Hugging Face, or other ML frameworks\n",
      "* Background in ML operations and deployment\n",
      "* Familiarity with Ray for distributed computing\n",
      "* Experience with real-time data streaming architectures\n",
      "* Background in sales/marketing data systems\n",
      "* Previous experience in startup or AI-driven environments\n",
      "\n",
      "Overall, the job posting emphasizes the importance of technical skills, experience, and collaboration in the role of a Data Engineer.\n"
     ]
    }
   ],
   "source": [
    "import requests\n",
    "import os\n",
    "import json\n",
    "\n",
    "# Path to the document you want to upload\n",
    "file_path = r\"C:\\Users\\karan\\Downloads\\Test.jpg\"  # Update this path\n",
    "\n",
    "# Ensure the file exists\n",
    "if not os.path.exists(file_path):\n",
    "    print(f\"The file {file_path} does not exist.\")\n",
    "    exit(1)\n",
    "\n",
    "# Define the API endpoint\n",
    "api_url = \"http://127.0.0.1:8000/extract_text\"\n",
    "\n",
    "# Open the file in binary mode\n",
    "with open(file_path, \"rb\") as file:\n",
    "    # Prepare the files dictionary for multipart/form-data\n",
    "    files = {\n",
    "        \"file\": (os.path.basename(file_path), file, \"application/octet-stream\")\n",
    "    }\n",
    "\n",
    "    try:\n",
    "        # Make the POST request\n",
    "        response = requests.post(api_url, files=files)\n",
    "    except requests.exceptions.RequestException as e:\n",
    "        print(f\"An error occurred while making the request: {e}\")\n",
    "        exit(1)\n",
    "\n",
    "# Process the response\n",
    "if response.status_code == 200:\n",
    "    data = response.json()\n",
    "    print(json.dumps(data, indent=4))\n",
    "    print(f\"FileName: {data.get('FileName')}\")\n",
    "    print(\"Text:\")\n",
    "    print(data.get(\"Text\"))\n",
    "elif response.status_code == 400:\n",
    "    print(f\"Bad Request: {response.json().get('detail')}\")\n",
    "elif response.status_code == 404:\n",
    "    print(f\"Not Found: {response.json().get('detail')}\")\n",
    "else:\n",
    "    print(f\"Error {response.status_code}: {response.json().get('detail')}\")"
   ]
  },
  {
   "cell_type": "code",
   "execution_count": null,
   "metadata": {},
   "outputs": [],
   "source": []
  }
 ],
 "metadata": {
  "kernelspec": {
   "display_name": "Python 3",
   "language": "python",
   "name": "python3"
  },
  "language_info": {
   "codemirror_mode": {
    "name": "ipython",
    "version": 3
   },
   "file_extension": ".py",
   "mimetype": "text/x-python",
   "name": "python",
   "nbconvert_exporter": "python",
   "pygments_lexer": "ipython3",
   "version": "3.12.1"
  }
 },
 "nbformat": 4,
 "nbformat_minor": 2
}

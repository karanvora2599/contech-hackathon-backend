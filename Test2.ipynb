{
 "cells": [
  {
   "cell_type": "code",
   "execution_count": null,
   "metadata": {},
   "outputs": [],
   "source": [
    "#Query\n",
    "\n",
    "curl -X POST \"http://127.0.0.1:8000/query\" \\\n",
    "-H \"Content-Type: application/json\" \\\n",
    "-d '{\n",
    "    \"query\": \"SELECT ?s ?p ?o WHERE { ?s ?p ?o . ?s a gc:Violation } LIMIT 10\"\n",
    "}'"
   ]
  },
  {
   "cell_type": "code",
   "execution_count": null,
   "metadata": {},
   "outputs": [],
   "source": [
    "#invoking LLM\n",
    "\n",
    "curl -X POST \"http://localhost:8000/parse\" \\\n",
    "     -H \"Content-Type: application/json\" \\\n",
    "     -d '{\n",
    "           \"document_text\": \"Your document text here.\"\n",
    "         }'\n",
    "\n",
    "\n",
    "curl -X POST \"http://localhost:8000/parse\" \\\n",
    "     -H \"Content-Type: application/json\" \\\n",
    "     -d '{\n",
    "           \"document_text\": \"Your document text here.\",\n",
    "           \"system_prompt\": \"You are an expert data analyst that extracts structured information from documents.\",\n",
    "           \"temperature\": 0.7,\n",
    "           \"max_tokens\": 1500,\n",
    "           \"top_p\": 0.8,\n",
    "           \"stream\": false,\n",
    "           \"response_format\": {\n",
    "               \"type\": \"json_object\"\n",
    "           },\n",
    "           \"stop\": [\"\\n\"]\n",
    "         }'"
   ]
  },
  {
   "cell_type": "code",
   "execution_count": null,
   "metadata": {},
   "outputs": [],
   "source": [
    "!uvicorn api2:app --host 0.0.0.0 --port 8000 --reload"
   ]
  }
 ],
 "metadata": {
  "kernelspec": {
   "display_name": "Python 3",
   "language": "python",
   "name": "python3"
  },
  "language_info": {
   "name": "python",
   "version": "3.12.1"
  }
 },
 "nbformat": 4,
 "nbformat_minor": 2
}

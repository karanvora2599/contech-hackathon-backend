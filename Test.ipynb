{
 "cells": [
  {
   "cell_type": "code",
   "execution_count": 1,
   "metadata": {},
   "outputs": [],
   "source": [
    "#Fetching class\n",
    "PREFIX rdf: <http://www.w3.org/1999/02/22-rdf-syntax-ns#>\n",
    "PREFIX rdfs: <http://www.w3.org/2000/01/rdf-schema#>\n",
    "\n",
    "SELECT DISTINCT ?class\n",
    "WHERE {\n",
    "  ?class a rdfs:Class .\n",
    "}"
   ]
  },
  {
   "cell_type": "code",
   "execution_count": null,
   "metadata": {},
   "outputs": [],
   "source": [
    "#Fetching All Properties with Their Domains and Ranges\n",
    "PREFIX rdf: <http://www.w3.org/1999/02/22-rdf-syntax-ns#>\n",
    "PREFIX rdfs: <http://www.w3.org/2000/01/rdf-schema#>\n",
    "\n",
    "SELECT DISTINCT ?property ?domain ?range\n",
    "WHERE {\n",
    "  ?property a rdf:Property .\n",
    "  OPTIONAL { ?property rdfs:domain ?domain . }\n",
    "  OPTIONAL { ?property rdfs:range ?range . }\n",
    "}"
   ]
  },
  {
   "cell_type": "code",
   "execution_count": null,
   "metadata": {},
   "outputs": [],
   "source": [
    "#Fetching Subclass Relationships\n",
    "PREFIX rdfs: <http://www.w3.org/2000/01/rdf-schema#>\n",
    "\n",
    "SELECT DISTINCT ?subClass ?superClass\n",
    "WHERE {\n",
    "  ?subClass rdfs:subClassOf ?superClass .\n",
    "}"
   ]
  },
  {
   "cell_type": "code",
   "execution_count": null,
   "metadata": {},
   "outputs": [],
   "source": [
    "# Define your SPARQL queries\n",
    "classes_query = \"\"\"\n",
    "PREFIX rdf: <http://www.w3.org/1999/02/22-rdf-syntax-ns#>\n",
    "PREFIX rdfs: <http://www.w3.org/2000/01/rdf-schema#>\n",
    "\n",
    "SELECT DISTINCT ?class\n",
    "WHERE {\n",
    "  ?class a rdfs:Class .\n",
    "}\n",
    "\"\"\"\n",
    "\n",
    "properties_query = \"\"\"\n",
    "PREFIX rdf: <http://www.w3.org/1999/02/22-rdf-syntax-ns#>\n",
    "PREFIX rdfs: <http://www.w3.org/2000/01/rdf-schema#>\n",
    "\n",
    "SELECT DISTINCT ?property ?domain ?range\n",
    "WHERE {\n",
    "  ?property a rdf:Property .\n",
    "  OPTIONAL { ?property rdfs:domain ?domain . }\n",
    "  OPTIONAL { ?property rdfs:range ?range . }\n",
    "}\n",
    "\"\"\"\n",
    "\n",
    "subclasses_query = \"\"\"\n",
    "PREFIX rdfs: <http://www.w3.org/2000/01/rdf-schema#>\n",
    "\n",
    "SELECT DISTINCT ?subClass ?superClass\n",
    "WHERE {\n",
    "  ?subClass rdfs:subClassOf ?superClass .\n",
    "}\n",
    "\"\"\"\n",
    "\n",
    "# Execute the queries\n",
    "classes_result = neptune_client.execute_query(classes_query)\n",
    "properties_result = neptune_client.execute_query(properties_query)\n",
    "subclasses_result = neptune_client.execute_query(subclasses_query)\n"
   ]
  },
  {
   "cell_type": "code",
   "execution_count": null,
   "metadata": {},
   "outputs": [],
   "source": [
    "import json\n",
    "\n",
    "# Function to pretty-print SPARQL results\n",
    "def print_sparql_results(result, title):\n",
    "    print(f\"--- {title} ---\")\n",
    "    for binding in result['results']['bindings']:\n",
    "        variables = {var: binding[var]['value'] for var in binding}\n",
    "        print(json.dumps(variables, indent=2))\n",
    "    print(\"\\n\")\n",
    "\n",
    "# Print Classes\n",
    "print_sparql_results(classes_result, \"Classes\")\n",
    "\n",
    "# Print Properties with Domains and Ranges\n",
    "print_sparql_results(properties_result, \"Properties with Domains and Ranges\")\n",
    "\n",
    "# Print Subclass Relationships\n",
    "print_sparql_results(subclasses_result, \"Subclass Relationships\")\n"
   ]
  }
 ],
 "metadata": {
  "kernelspec": {
   "display_name": "Python 3",
   "language": "python",
   "name": "python3"
  },
  "language_info": {
   "codemirror_mode": {
    "name": "ipython",
    "version": 3
   },
   "file_extension": ".py",
   "mimetype": "text/x-python",
   "name": "python",
   "nbconvert_exporter": "python",
   "pygments_lexer": "ipython3",
   "version": "3.12.1"
  }
 },
 "nbformat": 4,
 "nbformat_minor": 2
}
